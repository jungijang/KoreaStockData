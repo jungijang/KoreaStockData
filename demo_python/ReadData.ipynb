{
 "cells": [
  {
   "cell_type": "code",
   "execution_count": 1,
   "metadata": {},
   "outputs": [],
   "source": [
    "import numpy as np\n",
    "import pandas as pd"
   ]
  },
  {
   "cell_type": "markdown",
   "metadata": {},
   "source": [
    "# Read Tensor Data"
   ]
  },
  {
   "cell_type": "code",
   "execution_count": 9,
   "metadata": {},
   "outputs": [],
   "source": [
    "# download data from google drive and read data\n",
    "stock_tensor = np.load('../data/stock_dense_python.npy')"
   ]
  },
  {
   "cell_type": "code",
   "execution_count": 10,
   "metadata": {},
   "outputs": [
    {
     "name": "stdout",
     "output_type": "stream",
     "text": [
      "(3028, 3089, 6)\n"
     ]
    }
   ],
   "source": [
    "print(stock_tensor.shape)"
   ]
  },
  {
   "cell_type": "markdown",
   "metadata": {},
   "source": [
    "# Read Information"
   ]
  },
  {
   "cell_type": "code",
   "execution_count": 2,
   "metadata": {},
   "outputs": [],
   "source": [
    "stock_table = pd.read_csv('../data/stock_table', sep='\\t')"
   ]
  },
  {
   "cell_type": "code",
   "execution_count": 3,
   "metadata": {},
   "outputs": [
    {
     "data": {
      "text/html": [
       "<div>\n",
       "<style scoped>\n",
       "    .dataframe tbody tr th:only-of-type {\n",
       "        vertical-align: middle;\n",
       "    }\n",
       "\n",
       "    .dataframe tbody tr th {\n",
       "        vertical-align: top;\n",
       "    }\n",
       "\n",
       "    .dataframe thead th {\n",
       "        text-align: right;\n",
       "    }\n",
       "</style>\n",
       "<table border=\"1\" class=\"dataframe\">\n",
       "  <thead>\n",
       "    <tr style=\"text-align: right;\">\n",
       "      <th></th>\n",
       "      <th>index</th>\n",
       "      <th>symbol</th>\n",
       "      <th>name</th>\n",
       "      <th>description</th>\n",
       "      <th>sector</th>\n",
       "      <th>from_date</th>\n",
       "      <th>to_date</th>\n",
       "    </tr>\n",
       "  </thead>\n",
       "  <tbody>\n",
       "    <tr>\n",
       "      <th>0</th>\n",
       "      <td>0</td>\n",
       "      <td>000020</td>\n",
       "      <td>Dongwha Pharm.Co.,Ltd</td>\n",
       "      <td>Dongwha Pharm Co., Ltd. manufactures and sells...</td>\n",
       "      <td>Healthcare</td>\n",
       "      <td>2008-01-03</td>\n",
       "      <td>2020-06-30</td>\n",
       "    </tr>\n",
       "    <tr>\n",
       "      <th>1</th>\n",
       "      <td>1</td>\n",
       "      <td>000030</td>\n",
       "      <td>Woori Financial Group Inc.</td>\n",
       "      <td>No Information</td>\n",
       "      <td>No Information</td>\n",
       "      <td>2014-11-19</td>\n",
       "      <td>2019-02-12</td>\n",
       "    </tr>\n",
       "    <tr>\n",
       "      <th>2</th>\n",
       "      <td>2</td>\n",
       "      <td>000040</td>\n",
       "      <td>KR Motors Co., Ltd.</td>\n",
       "      <td>KR Motors Co., Ltd. manufactures and sells mot...</td>\n",
       "      <td>Consumer Cyclical</td>\n",
       "      <td>2008-01-03</td>\n",
       "      <td>2020-06-30</td>\n",
       "    </tr>\n",
       "    <tr>\n",
       "      <th>3</th>\n",
       "      <td>3</td>\n",
       "      <td>000050</td>\n",
       "      <td>Kyungbang Co.,Ltd</td>\n",
       "      <td>Kyungbang Co., Ltd. engages in textile spinnin...</td>\n",
       "      <td>Consumer Cyclical</td>\n",
       "      <td>2008-01-03</td>\n",
       "      <td>2020-06-30</td>\n",
       "    </tr>\n",
       "    <tr>\n",
       "      <th>4</th>\n",
       "      <td>4</td>\n",
       "      <td>000060</td>\n",
       "      <td>Meritz Fire &amp; Marine Insurance Co., Ltd.</td>\n",
       "      <td>Meritz Fire &amp; Marine Insurance Co., Ltd. provi...</td>\n",
       "      <td>Financial Services</td>\n",
       "      <td>2008-01-03</td>\n",
       "      <td>2020-06-30</td>\n",
       "    </tr>\n",
       "  </tbody>\n",
       "</table>\n",
       "</div>"
      ],
      "text/plain": [
       "   index  symbol                                      name  \\\n",
       "0      0  000020                     Dongwha Pharm.Co.,Ltd   \n",
       "1      1  000030                Woori Financial Group Inc.   \n",
       "2      2  000040                       KR Motors Co., Ltd.   \n",
       "3      3  000050                         Kyungbang Co.,Ltd   \n",
       "4      4  000060  Meritz Fire & Marine Insurance Co., Ltd.   \n",
       "\n",
       "                                         description              sector  \\\n",
       "0  Dongwha Pharm Co., Ltd. manufactures and sells...          Healthcare   \n",
       "1                                     No Information      No Information   \n",
       "2  KR Motors Co., Ltd. manufactures and sells mot...   Consumer Cyclical   \n",
       "3  Kyungbang Co., Ltd. engages in textile spinnin...   Consumer Cyclical   \n",
       "4  Meritz Fire & Marine Insurance Co., Ltd. provi...  Financial Services   \n",
       "\n",
       "    from_date     to_date  \n",
       "0  2008-01-03  2020-06-30  \n",
       "1  2014-11-19  2019-02-12  \n",
       "2  2008-01-03  2020-06-30  \n",
       "3  2008-01-03  2020-06-30  \n",
       "4  2008-01-03  2020-06-30  "
      ]
     },
     "execution_count": 3,
     "metadata": {},
     "output_type": "execute_result"
    }
   ],
   "source": [
    "stock_table.head()"
   ]
  },
  {
   "cell_type": "code",
   "execution_count": 4,
   "metadata": {},
   "outputs": [
    {
     "data": {
      "text/html": [
       "<div>\n",
       "<style scoped>\n",
       "    .dataframe tbody tr th:only-of-type {\n",
       "        vertical-align: middle;\n",
       "    }\n",
       "\n",
       "    .dataframe tbody tr th {\n",
       "        vertical-align: top;\n",
       "    }\n",
       "\n",
       "    .dataframe thead th {\n",
       "        text-align: right;\n",
       "    }\n",
       "</style>\n",
       "<table border=\"1\" class=\"dataframe\">\n",
       "  <thead>\n",
       "    <tr style=\"text-align: right;\">\n",
       "      <th></th>\n",
       "      <th>index</th>\n",
       "      <th>date</th>\n",
       "    </tr>\n",
       "  </thead>\n",
       "  <tbody>\n",
       "    <tr>\n",
       "      <th>0</th>\n",
       "      <td>0</td>\n",
       "      <td>2008-01-03</td>\n",
       "    </tr>\n",
       "    <tr>\n",
       "      <th>1</th>\n",
       "      <td>1</td>\n",
       "      <td>2008-01-04</td>\n",
       "    </tr>\n",
       "    <tr>\n",
       "      <th>2</th>\n",
       "      <td>2</td>\n",
       "      <td>2008-01-07</td>\n",
       "    </tr>\n",
       "    <tr>\n",
       "      <th>3</th>\n",
       "      <td>3</td>\n",
       "      <td>2008-01-08</td>\n",
       "    </tr>\n",
       "    <tr>\n",
       "      <th>4</th>\n",
       "      <td>4</td>\n",
       "      <td>2008-01-09</td>\n",
       "    </tr>\n",
       "  </tbody>\n",
       "</table>\n",
       "</div>"
      ],
      "text/plain": [
       "   index        date\n",
       "0      0  2008-01-03\n",
       "1      1  2008-01-04\n",
       "2      2  2008-01-07\n",
       "3      3  2008-01-08\n",
       "4      4  2008-01-09"
      ]
     },
     "execution_count": 4,
     "metadata": {},
     "output_type": "execute_result"
    }
   ],
   "source": [
    "date_dic = pd.read_csv('../data/date_dic', sep='\\t')\n",
    "date_dic.head()"
   ]
  },
  {
   "cell_type": "code",
   "execution_count": 5,
   "metadata": {},
   "outputs": [
    {
     "data": {
      "text/html": [
       "<div>\n",
       "<style scoped>\n",
       "    .dataframe tbody tr th:only-of-type {\n",
       "        vertical-align: middle;\n",
       "    }\n",
       "\n",
       "    .dataframe tbody tr th {\n",
       "        vertical-align: top;\n",
       "    }\n",
       "\n",
       "    .dataframe thead th {\n",
       "        text-align: right;\n",
       "    }\n",
       "</style>\n",
       "<table border=\"1\" class=\"dataframe\">\n",
       "  <thead>\n",
       "    <tr style=\"text-align: right;\">\n",
       "      <th></th>\n",
       "      <th>index</th>\n",
       "      <th>feature</th>\n",
       "    </tr>\n",
       "  </thead>\n",
       "  <tbody>\n",
       "    <tr>\n",
       "      <th>0</th>\n",
       "      <td>0</td>\n",
       "      <td>opening_price</td>\n",
       "    </tr>\n",
       "    <tr>\n",
       "      <th>1</th>\n",
       "      <td>1</td>\n",
       "      <td>highest_price</td>\n",
       "    </tr>\n",
       "    <tr>\n",
       "      <th>2</th>\n",
       "      <td>2</td>\n",
       "      <td>lowest_price</td>\n",
       "    </tr>\n",
       "    <tr>\n",
       "      <th>3</th>\n",
       "      <td>3</td>\n",
       "      <td>closing_price</td>\n",
       "    </tr>\n",
       "    <tr>\n",
       "      <th>4</th>\n",
       "      <td>4</td>\n",
       "      <td>trading_volume</td>\n",
       "    </tr>\n",
       "  </tbody>\n",
       "</table>\n",
       "</div>"
      ],
      "text/plain": [
       "   index         feature\n",
       "0      0   opening_price\n",
       "1      1   highest_price\n",
       "2      2    lowest_price\n",
       "3      3   closing_price\n",
       "4      4  trading_volume"
      ]
     },
     "execution_count": 5,
     "metadata": {},
     "output_type": "execute_result"
    }
   ],
   "source": [
    "feature_dic = pd.read_csv('../data/feature_dic', sep='\\t')\n",
    "feature_dic.head()"
   ]
  }
 ],
 "metadata": {
  "kernelspec": {
   "display_name": "Python 3",
   "language": "python",
   "name": "python3"
  },
  "language_info": {
   "codemirror_mode": {
    "name": "ipython",
    "version": 3
   },
   "file_extension": ".py",
   "mimetype": "text/x-python",
   "name": "python",
   "nbconvert_exporter": "python",
   "pygments_lexer": "ipython3",
   "version": "3.6.10"
  }
 },
 "nbformat": 4,
 "nbformat_minor": 4
}
